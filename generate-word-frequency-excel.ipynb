{
 "cells": [
  {
   "cell_type": "markdown",
   "id": "f7eccc09-c396-4ff5-8c41-0ef80f3038e9",
   "metadata": {},
   "source": [
    "# Generate Word Frequency in Audit Reports"
   ]
  },
  {
   "cell_type": "markdown",
   "id": "1cfa795e-4275-48be-9874-5bbb1dd9ceed",
   "metadata": {},
   "source": [
    "## Steps Taken\n",
    "\n",
    "1. Download the folder with audit reports from OneDrive\n",
    "2. Iterate through the folder and get the folders with each country's reports\n",
    "3. For each country's folder, get the country's reports\n",
    "4. Lemmatize the words in each report\n",
    "5. Filter the words to remove noise\n",
    "6. Get the frequency distribution of each text\n",
    "7. Enter the frequency distribution into a pandas dataframe\n",
    "8. Merge each country's frequency distributions into one dataframe with the words as rows and report name as column\n",
    "9. Enter each country as a spreadsheet in an excel workbook\n",
    "10. Delete the downloaded documents"
   ]
  },
  {
   "cell_type": "code",
   "execution_count": 1,
   "id": "a33207fd-7635-44fa-a906-00a0d7e8c8f1",
   "metadata": {},
   "outputs": [],
   "source": [
    "# link to audit_reports; publicly accessible\n",
    "audit_reports_link = \"https://stir-my.sharepoint.com/:f:/g/personal/fkc3_stir_ac_uk/Esgp-VMQyzBClY5vpTP9TsYBTCb16iA3NvelLEJM53VEgQ?e=7ejaR3\""
   ]
  },
  {
   "cell_type": "markdown",
   "id": "f26882d5-fae7-40c6-8a17-80640e94c52a",
   "metadata": {},
   "source": [
    "### 2. Iterate through the folder and create a dictionary to match each country to files within it"
   ]
  },
  {
   "cell_type": "code",
   "execution_count": 2,
   "id": "62caa145-bfa8-46fc-902a-525d575d274e",
   "metadata": {},
   "outputs": [],
   "source": [
    "import os\n",
    "from pdfminer.high_level import extract_text\n",
    "import nltk\n",
    "from nltk.corpus import stopwords\n",
    "import pandas as pd"
   ]
  },
  {
   "cell_type": "code",
   "execution_count": 3,
   "id": "017b0e49-73e6-433a-a0c2-5e3fb308a5f3",
   "metadata": {},
   "outputs": [],
   "source": [
    "audit_reports_file_path = \"./audit_reports\""
   ]
  },
  {
   "cell_type": "code",
   "execution_count": 17,
   "id": "aa87889f-3be2-409f-b301-1bc05dc867f2",
   "metadata": {},
   "outputs": [],
   "source": [
    "country_audit_report_dict = {}\n",
    "\n",
    "for root, dirs, files in os.walk(audit_reports_file_path):\n",
    "    if (dirs): # ignore the country folders as children\n",
    "        continue\n",
    "    country_audit_report_dict[root] = sorted(files);"
   ]
  },
  {
   "cell_type": "markdown",
   "id": "7e1245c2-6121-45ed-b9d2-87bd7c6c354a",
   "metadata": {},
   "source": [
    "### 3. For each country's folder, get the country's reports"
   ]
  },
  {
   "cell_type": "code",
   "execution_count": 5,
   "id": "f0d5b15d-2999-4758-a5fb-39e20d0a9567",
   "metadata": {},
   "outputs": [],
   "source": [
    "country_texts_dict = {}\n",
    "\n",
    "for country_folder_path, filenames in country_audit_report_dict.items():\n",
    "    for filename in filenames:\n",
    "        print(f'Doing {country_folder_path}/{filename}')\n",
    "        try:\n",
    "            text = extract_text(f'{country_folder_path}/{filename}').lower()\n",
    "        \n",
    "            if text and country_folder_path in country_texts_dict:\n",
    "                country_texts_dict[country_folder_path][filename] = text;\n",
    "            elif text and country_folder_path not in country_texts_dict:\n",
    "                country_texts_dict[country_folder_path] = {filename: text}\n",
    "        except:\n",
    "            print(f'{filename} has a problem')\n"
   ]
  },
  {
   "cell_type": "markdown",
   "id": "1464dee1-2a1f-4fcc-b4aa-f493a50744cf",
   "metadata": {},
   "source": [
    "### 4. Lemmatize the words in each report"
   ]
  },
  {
   "cell_type": "code",
   "execution_count": 6,
   "id": "9dcd2fd3-aa14-47aa-9e7e-2acfba5e1790",
   "metadata": {},
   "outputs": [],
   "source": [
    "lemmatizer = nltk.WordNetLemmatizer()\n",
    "\n",
    "for country_path in country_texts_dict.keys():\n",
    "    for report_name, report_text in country_texts_dict[country_path].items():\n",
    "        if report_text:\n",
    "            words = nltk.word_tokenize(report_text.lower())            \n",
    "            words = [lemmatizer.lemmatize(word) for word in words]\n",
    "\n",
    "            country_texts_dict[country_path][report_name] = words"
   ]
  },
  {
   "cell_type": "markdown",
   "id": "ef70bb8a-c6d4-47d8-a5dc-ca4107357809",
   "metadata": {},
   "source": [
    "### 5. Filter the words to remove noise"
   ]
  },
  {
   "cell_type": "code",
   "execution_count": 7,
   "id": "4abaac18-1758-4d02-a339-cc49609408e1",
   "metadata": {},
   "outputs": [],
   "source": [
    "# remove words made up numbers, symbols, and stopwords\n",
    "def is_ideal_word(word):\n",
    "    if word.isalpha() and word not in stopwords.words('english'):\n",
    "        return True\n",
    "    return False\n",
    "\n",
    "    \n",
    "for country_path in country_texts_dict.keys():\n",
    "    for report_name, words in country_texts_dict[country_path].items():\n",
    "        words = list(filter(is_ideal_word, words))\n",
    "        country_texts_dict[country_path][report_name] = words"
   ]
  },
  {
   "cell_type": "markdown",
   "id": "5d41e0e6-6b45-49e0-9dd9-ae4a6d0156b6",
   "metadata": {},
   "source": [
    "### 6. Get the frequency distribution of each text"
   ]
  },
  {
   "cell_type": "code",
   "execution_count": 8,
   "id": "0bed7ed5-af9d-46bc-aa5e-d23105eabeff",
   "metadata": {},
   "outputs": [],
   "source": [
    "country_report_freq_dist_dict = {}\n",
    "\n",
    "for country_path in country_texts_dict.keys():\n",
    "    for report_name, words in country_texts_dict[country_path].items():\n",
    "        fdist = nltk.FreqDist(words)\n",
    "\n",
    "        if country_path in country_report_freq_dist_dict:\n",
    "            country_report_freq_dist_dict[country_path][report_name] = fdist\n",
    "        else:\n",
    "            country_report_freq_dist_dict[country_path] = {report_name: fdist}"
   ]
  },
  {
   "cell_type": "markdown",
   "id": "0b70d1dd-247c-4975-9177-8781f7cef986",
   "metadata": {},
   "source": [
    "### 7. Enter the frequency distributions into a pandas dataframe"
   ]
  },
  {
   "cell_type": "code",
   "execution_count": 9,
   "id": "89b0524e-f9f2-4631-b146-7d4eb670c46c",
   "metadata": {},
   "outputs": [],
   "source": [
    "country_report_df_dict = {}\n",
    "\n",
    "for country_path in country_report_freq_dist_dict.keys():\n",
    "    for report_name, freq_dist in country_report_freq_dist_dict[country_path].items():\n",
    "        df = pd.DataFrame.from_dict(dict(freq_dist), orient='index', columns=[report_name])\n",
    "\n",
    "        if country_path in country_report_df_dict:\n",
    "            country_report_df_dict[country_path][report_name] = df\n",
    "        else:\n",
    "            country_report_df_dict[country_path] = {report_name: df}"
   ]
  },
  {
   "cell_type": "markdown",
   "id": "85bd1393-230c-4fd0-aac1-142eee6b9b29",
   "metadata": {},
   "source": [
    "### 8. Merge each country's frequency distributions into one dataframe with the words as rows and report name as column"
   ]
  },
  {
   "cell_type": "code",
   "execution_count": 10,
   "id": "0449e117-db80-46a3-a750-069e2851567e",
   "metadata": {},
   "outputs": [],
   "source": [
    "country_df_dict = {}\n",
    "\n",
    "for country_path in country_report_df_dict.keys():\n",
    "    df = pd.DataFrame()\n",
    "    for report_df in country_report_df_dict[country_path].values():\n",
    "        if df.empty:\n",
    "            df = report_df\n",
    "        else:\n",
    "            df = pd.merge(df, report_df, 'outer',left_index=True, right_index=True)\n",
    "    country_df_dict[country_path] = df"
   ]
  },
  {
   "cell_type": "code",
   "execution_count": 11,
   "id": "65c5acd6-6dc9-40d2-9c65-9cf6f56746af",
   "metadata": {},
   "outputs": [
    {
     "ename": "KeyError",
     "evalue": "'./audit_reports/Nigeria'",
     "output_type": "error",
     "traceback": [
      "\u001b[0;31m---------------------------------------------------------------------------\u001b[0m",
      "\u001b[0;31mKeyError\u001b[0m                                  Traceback (most recent call last)",
      "Cell \u001b[0;32mIn[11], line 1\u001b[0m\n\u001b[0;32m----> 1\u001b[0m \u001b[43mcountry_df_dict\u001b[49m\u001b[43m[\u001b[49m\u001b[38;5;124;43m'\u001b[39;49m\u001b[38;5;124;43m./audit_reports/Nigeria\u001b[39;49m\u001b[38;5;124;43m'\u001b[39;49m\u001b[43m]\u001b[49m[:\u001b[38;5;241m100\u001b[39m]\n",
      "\u001b[0;31mKeyError\u001b[0m: './audit_reports/Nigeria'"
     ]
    }
   ],
   "source": [
    "country_df_dict['./audit_reports/Nigeria'][:100]"
   ]
  },
  {
   "cell_type": "code",
   "execution_count": null,
   "id": "2972740f-6f89-4cd1-ad25-68435e329b0c",
   "metadata": {},
   "outputs": [],
   "source": [
    "country_df_dict['./audit_reports/Malawi'].loc['transparency']"
   ]
  },
  {
   "cell_type": "markdown",
   "id": "9097bf4d-e08f-401a-bf0c-0ae0944836bd",
   "metadata": {},
   "source": [
    "### 9. Enter each country as a spreadsheet in an excel workbook"
   ]
  },
  {
   "cell_type": "code",
   "execution_count": null,
   "id": "743fc9c5-43f1-4989-a8e0-60791f5e84a7",
   "metadata": {},
   "outputs": [],
   "source": [
    "with pd.ExcelWriter('word-frequency.xlsx') as writer:\n",
    "    for country_path, df in country_df_dict.items():\n",
    "        df.to_excel(writer, sheet_name=f'{country_path.removeprefix(\"./audit_reports/\")}')"
   ]
  },
  {
   "cell_type": "code",
   "execution_count": null,
   "id": "680e9b9f-e1fa-40b2-a349-861844a90435",
   "metadata": {},
   "outputs": [],
   "source": [
    "d = {'report': 42, 'auditor': 143, 'general': 185}\n",
    "p = pd.DataFrame.from_dict(d, orient='index', columns=['2022'])\n",
    "p"
   ]
  },
  {
   "cell_type": "code",
   "execution_count": null,
   "id": "e46b60c5-2c09-472a-9cf0-39a95813f59f",
   "metadata": {},
   "outputs": [],
   "source": [
    "zam_2015 = country_report_df_dict['./audit_reports/Zambia']['ZAM_GenGov_2015.pdf']\n",
    "zam_2015"
   ]
  },
  {
   "cell_type": "code",
   "execution_count": null,
   "id": "8d640cc8-8a94-40b5-8678-7068ada23b2c",
   "metadata": {},
   "outputs": [],
   "source": []
  }
 ],
 "metadata": {
  "kernelspec": {
   "display_name": "auditor-general-reports-analyses",
   "language": "python",
   "name": "env"
  },
  "language_info": {
   "codemirror_mode": {
    "name": "ipython",
    "version": 3
   },
   "file_extension": ".py",
   "mimetype": "text/x-python",
   "name": "python",
   "nbconvert_exporter": "python",
   "pygments_lexer": "ipython3",
   "version": "3.10.12"
  }
 },
 "nbformat": 4,
 "nbformat_minor": 5
}
